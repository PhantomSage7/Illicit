{
  "cells": [
    {
      "cell_type": "markdown",
      "metadata": {
        "id": "QTtOf79Yo8fH"
      },
      "source": [
        "# **Basic Things [Variables, DataTypes, eval()-function, help()]**"
      ]
    },
    {
      "cell_type": "code",
      "execution_count": 2,
      "metadata": {
        "colab": {
          "base_uri": "https://localhost:8080/"
        },
        "id": "UenUpZsi8YGK",
        "outputId": "6e3b86c3-3921-43e0-97f7-07eb803b4c2b"
      },
      "outputs": [
        {
          "name": "stdout",
          "output_type": "stream",
          "text": [
            "<class 'int'>\n",
            "<class 'float'>\n",
            "<class 'str'>\n",
            "<class 'str'>\n",
            "<class 'bool'>\n",
            "<class 'str'>\n",
            "<class 'str'>\n",
            "<class 'int'>\n"
          ]
        }
      ],
      "source": [
        "# No need to define data type of variables in case of python, like we used to do in other languages\n",
        "\n",
        "x, y = 10, 1.12\n",
        "z = 'Single Quotes'\n",
        "a = \"Double Quotes\"\n",
        "b = True\n",
        "c = \"d\"\n",
        "d = 's'\n",
        "e = int(1.12)\n",
        "\n",
        "print (type(x), type(y), type(z), type(a), type(b), type(c), type(d), type(e), sep=\"\\n\")"
      ]
    },
    {
      "cell_type": "code",
      "execution_count": 6,
      "metadata": {
        "colab": {
          "base_uri": "https://localhost:8080/"
        },
        "id": "GXLgpzIBuT_r",
        "outputId": "c21c4817-46bb-4cf2-9e6a-13cf893a6f24"
      },
      "outputs": [
        {
          "name": "stdout",
          "output_type": "stream",
          "text": [
            "1)Result = 11.0\n",
            "2)Result = 30.0\n"
          ]
        }
      ],
      "source": [
        "# eval() function Evaluates a given argument and gives the output, the argument should be in String\n",
        "\n",
        "x = eval(\"10/2+3*2\")\n",
        "print(\"1)Result =\", x)\n",
        "\n",
        "y = \"10+5/2*8\"\n",
        "print(\"2)Result =\",eval(y))\n"
      ]
    },
    {
      "cell_type": "code",
      "execution_count": 7,
      "metadata": {
        "colab": {
          "base_uri": "https://localhost:8080/"
        },
        "id": "cKYY755SvsY6",
        "outputId": "bdb0b398-880d-4e2f-dde7-9af3ccf1049e"
      },
      "outputs": [
        {
          "name": "stdout",
          "output_type": "stream",
          "text": [
            "\n",
            "Welcome to Python 3.10's help utility!\n",
            "\n",
            "If this is your first time using Python, you should definitely check out\n",
            "the tutorial on the internet at https://docs.python.org/3.10/tutorial/.\n",
            "\n",
            "Enter the name of any module, keyword, or topic to get help on writing\n",
            "Python programs and using Python modules.  To quit this help utility and\n",
            "return to the interpreter, just type \"quit\".\n",
            "\n",
            "To get a list of available modules, keywords, symbols, or topics, type\n",
            "\"modules\", \"keywords\", \"symbols\", or \"topics\".  Each module also comes\n",
            "with a one-line summary of what it does; to list the modules whose name\n",
            "or summary contain a given string such as \"spam\", type \"modules spam\".\n",
            "\n"
          ]
        }
      ],
      "source": [
        "# help() function helps you get info on anything you require on python , just type help() in shell, you will be guided accordingly\n",
        "\n",
        "help()"
      ]
    },
    {
      "cell_type": "markdown",
      "metadata": {
        "id": "z3wiqt1-mf63"
      },
      "source": [
        "# **Input and Printing Statements**\n",
        "\n"
      ]
    },
    {
      "cell_type": "code",
      "execution_count": 1,
      "metadata": {
        "colab": {
          "base_uri": "https://localhost:8080/"
        },
        "id": "VvObbTgqmw7N",
        "outputId": "74f8889b-204c-4ff5-e877-6fbbbe401385"
      },
      "outputs": [
        {
          "name": "stdout",
          "output_type": "stream",
          "text": [
            "Hello Guys! Welcome To KRS Classes ML\n",
            "Let us Say :  143 is my Number\n",
            "Printing Sequence Type-1 = Text_1 --- Text_2\n",
            "Trial:t1 t2\n",
            "Printing Sequence Type-2 = Text-1 --- Text-2\n"
          ]
        }
      ],
      "source": [
        "#Printing Statements -1\n",
        "a = \"Welcome To KRS Classes ML\"\n",
        "print(\"Hello Guys!\", a)\n",
        "\n",
        "#Printing Statements -2\n",
        "b = 143\n",
        "print(\"Let us Say : \", end=\" \")\n",
        "print(b, 'is my Number')\n",
        "\n",
        "#Printing Statements -3\n",
        "print(\"Printing Sequence Type-1 = {} --- {}\".format(\"Text_1\",\"Text_2\"))\n",
        "\n",
        "print(\"Trial:{} {}\".format(\"t1\",\"t2\"))\n",
        "\n",
        "#Printing Statements -4\n",
        "x = \"Text-1\"\n",
        "y = \"Text-2\"\n",
        "print(f\"Printing Sequence Type-2 = {x} --- {y}\")"
      ]
    },
    {
      "cell_type": "code",
      "execution_count": null,
      "metadata": {
        "colab": {
          "base_uri": "https://localhost:8080/"
        },
        "id": "uAqxouq3waSI",
        "outputId": "fc69ed8d-380a-4b2c-b35a-7e79a719b0d6"
      },
      "outputs": [
        {
          "name": "stdout",
          "output_type": "stream",
          "text": [
            "1)Enter Anything : 123\n",
            "Input =  123 ; Type : <class 'str'>\n",
            "\n",
            "2)Enter Any Number : 11.3\n",
            "Input =  11.3 ; Type : <class 'float'>\n"
          ]
        }
      ],
      "source": [
        "# By default Input is taken is String format, \n",
        "# so if we require input in any other format we need to change its type - by eval() or explicit conversion\n",
        "\n",
        "a = input(\"1)Enter Anything : \")\n",
        "print(\"Input = \", a, \"; Type :\", type(a))\n",
        "\n",
        "b = eval(input(\"\\n2)Enter Any Number : \"))\n",
        "print(\"Input = \", b, \"; Type :\", type(b))"
      ]
    },
    {
      "cell_type": "markdown",
      "metadata": {
        "id": "fPUApykSSQph"
      },
      "source": [
        "# **Random Function**"
      ]
    },
    {
      "cell_type": "code",
      "execution_count": 2,
      "metadata": {
        "colab": {
          "base_uri": "https://localhost:8080/"
        },
        "id": "mlfw49iZSVVB",
        "outputId": "dcb3d4ec-4503-4476-9ec4-da899864610a"
      },
      "outputs": [
        {
          "name": "stdout",
          "output_type": "stream",
          "text": [
            "Choice 1 : 1\n",
            "Choice 2 : 5\n",
            "Choice 3 : 0.9831377329502572\n"
          ]
        }
      ],
      "source": [
        "# Lets understand by a Dice Game : Lets see what you get\n",
        "import random as rd\n",
        "choice = rd.randrange(1,6+1) # range is from 1 to 6\n",
        "choice2 = rd.randint(1,6) # range is from 1 to 6\n",
        "choice3 = rd.random() # gives any random number between 0 and 1 in float \n",
        "print(\"Choice 1 :\", choice)\n",
        "print(\"Choice 2 :\", choice2)\n",
        "print(\"Choice 3 :\", choice3)\n"
      ]
    },
    {
      "cell_type": "markdown",
      "metadata": {
        "id": "xSbXY-Oj6So5"
      },
      "source": [
        "# **Set, List, Tuple, Dictionary**"
      ]
    },
    {
      "cell_type": "code",
      "execution_count": null,
      "metadata": {
        "colab": {
          "base_uri": "https://localhost:8080/"
        },
        "id": "zzLqIMgP6c7J",
        "outputId": "11038dda-316e-40b3-f5e7-22ce6f85746e"
      },
      "outputs": [
        {
          "name": "stdout",
          "output_type": "stream",
          "text": [
            "['1', 2, 'NAMES', 11, 1.2, 2, 654, 55.3, 'h', 'Hello']\n",
            "['NAMES', 1.2]\n",
            "['1', 2, 'NAMES', 11]\n",
            "[654, 55.3, 'h', 'Hello']\n",
            "[2, 654, 55.3]\n",
            "['1', 2, 'NAMES', 11, 1.2, 2, 654, 55.3, 'h', 'Hello', 'NEW']\n",
            "['1', 2, 'NAMES', 1.2, 2, 654, 55.3, 'h', 'Hello', 'NEW']\n",
            "['1', 2, 'NAMES', 1.2, 2, 654, 55.3, 'Hello', 'NEW']\n",
            "[[1, 2, 3], [4, 5], ['sdfgh']]\n"
          ]
        }
      ],
      "source": [
        "# List (Indexing : 0 onwards LHS, -1 onwards RHS)\n",
        "# Mutable, Different Data types allowed in same list\n",
        "\n",
        "LIST = ['1', 2, \"NAMES\", 11, 1.2, 2, 654, 55.3, 'h', 'Hello']\n",
        "print(LIST)\n",
        "print(LIST[2:6:2]) # index 2 to 5, jump=2\n",
        "print(LIST[:4]) # index 0 to 3\n",
        "print(LIST[6:]) # index 6 to last\n",
        "print(LIST[-5:-2]) # index reverse -5 to -3\n",
        "\n",
        "LIST.append(\"NEW\") # adding new element in list\n",
        "print(LIST)\n",
        "\n",
        "LIST.pop(3) # deleting element in list by index\n",
        "print(LIST)\n",
        "\n",
        "LIST.remove('h') # deleting element in list by item\n",
        "print(LIST)\n",
        "\n",
        "NestedList = [[1,2,3],[4,5],['sdfgh']]\n",
        "print(NestedList)"
      ]
    },
    {
      "cell_type": "code",
      "execution_count": null,
      "metadata": {
        "colab": {
          "base_uri": "https://localhost:8080/"
        },
        "id": "uaSs9f9UU72j",
        "outputId": "4bb75b28-2ae8-4f00-adb9-73519f619ae7"
      },
      "outputs": [
        {
          "name": "stdout",
          "output_type": "stream",
          "text": [
            "<class 'set'>\n",
            "{'a', 'b', 'c'}\n",
            "{'a', 'b', 'd', 'c'}\n",
            "\n",
            "__Next__\n",
            "\n",
            "Normal Set\n",
            "{'a', 'b', 'c'}\n",
            "\n",
            "Frozen Set\n",
            "frozenset({'f', 'e', 'g'})\n"
          ]
        }
      ],
      "source": [
        "# Set are represented by { } (values enclosed in curly braces)\n",
        "\n",
        "var = {\"Geeks\", \"for\", \"Geeks\"}\n",
        "print(type(var))\n",
        "\n",
        "# typecasting list to set\n",
        "myset = set([\"a\", \"b\", \"c\"])\n",
        "print(myset)\n",
        "\n",
        "# Adding element to the set\n",
        "myset.add(\"d\")\n",
        "print(myset)\n",
        "\n",
        "print(\"\\n__Next__\\n\")\n",
        "\n",
        "# Python program to demonstrate differences\n",
        "# between normal and frozen set\n",
        "\n",
        "# Same as {\"a\", \"b\",\"c\"}\n",
        "normal_set = set([\"a\", \"b\",\"c\"])\n",
        "\n",
        "print(\"Normal Set\")\n",
        "print(normal_set)\n",
        "\n",
        "# A frozen set\n",
        "frozen_set = frozenset([\"e\", \"f\", \"g\"])\n",
        "\n",
        "print(\"\\nFrozen Set\")\n",
        "print(frozen_set) # Uncommenting this line would cause error as we are trying to add element to a frozen set : frozen_set.add(\"h\")\n",
        "\n",
        "print(\"\\n__Next__\\n\")\n",
        "\n",
        "\n"
      ]
    },
    {
      "cell_type": "code",
      "execution_count": null,
      "metadata": {
        "colab": {
          "base_uri": "https://localhost:8080/"
        },
        "id": "Hf3QdInF9pTD",
        "outputId": "cb6ddc64-2228-40e1-b511-ab4dc349e3ed"
      },
      "outputs": [
        {
          "name": "stdout",
          "output_type": "stream",
          "text": [
            "('1', 2, 'NAMES', 11, 1.2, 2, 654, 55.3, 'h', 'Hello')\n",
            "('NAMES', 11)\n",
            "('1', 2, 'NAMES', 11)\n",
            "(654, 55.3, 'h', 'Hello')\n",
            "(2, 654, 55.3)\n"
          ]
        }
      ],
      "source": [
        "# Tuple (Indexing : 0 onwards LHS, -1 onwards RHS)\n",
        "# Imutable, Different Data types allowed in same Tuple\n",
        "\n",
        "TUP = ('1', 2, \"NAMES\", 11, 1.2, 2, 654, 55.3, 'h', 'Hello')\n",
        "print(TUP)\n",
        "print(TUP[2:4]) # index 2 to 3\n",
        "print(TUP[:4]) # index 0 to 3\n",
        "print(TUP[6:]) # index 6 to last\n",
        "print(TUP[-5:-2]) # index reverse -5 to -3\n"
      ]
    },
    {
      "cell_type": "code",
      "execution_count": 1,
      "metadata": {
        "colab": {
          "base_uri": "https://localhost:8080/"
        },
        "id": "CZYmqhKmAJFB",
        "outputId": "926f8e02-5eb3-4d4b-bef6-e1072ae227d1"
      },
      "outputs": [
        {
          "name": "stdout",
          "output_type": "stream",
          "text": [
            "{1: 'A', 2: 'B', 3: 'C'}\n",
            "dict_keys([1, 2, 3])\n",
            "B\n",
            "C\n",
            "{1: 'A', 3: 'C'}\n",
            "{1: 'A', 3: 'C', 2: 'NEW'}\n",
            "{1: [['Name', 'age', 21011], [1, 2, 334]], 2: [1, 3]}\n"
          ]
        }
      ],
      "source": [
        "# Dictionary (Key-Value Pair)\n",
        "\n",
        "Dt = {1:\"A\", 2:\"B\", 3:\"C\"}\n",
        "print(Dt)\n",
        "\n",
        "print(Dt.keys()) # get keys\n",
        "\n",
        "print(Dt[2]) # print value via key\n",
        "print(Dt.get(3))\n",
        "\n",
        "Dt.pop(2) # delete key\n",
        "print(Dt)\n",
        "\n",
        "Dt.update({2: \"NEW\"}) # add new key-pair value\n",
        "print(Dt)\n",
        "\n",
        "ND = {1:[[\"Name\",\"age\",21011],[1,2,334]],2:[1,3]}\n",
        "print(ND)"
      ]
    },
    {
      "cell_type": "markdown",
      "metadata": {
        "id": "LvzAoyg3ylBU"
      },
      "source": [
        "# **Loops in Python**"
      ]
    },
    {
      "cell_type": "code",
      "execution_count": 7,
      "metadata": {
        "colab": {
          "base_uri": "https://localhost:8080/"
        },
        "id": "yXz8ciXny-Ja",
        "outputId": "78f5b49f-b96c-4a40-b89a-87f44e142f19"
      },
      "outputs": [
        {
          "name": "stdout",
          "output_type": "stream",
          "text": [
            "1  2  3  4  5  6  7  8  9  \n",
            "__Next__\n",
            "1  3  5  7  9  \n",
            "__Next__\n",
            "1  2  NAMES  11  1.2  2  654  55.3  h  Hello  \n",
            "__Next__\n"
          ]
        }
      ],
      "source": [
        "# for - Loop\n",
        "LIST = ['1', 2, \"NAMES\", 11, 1.2, 2, 654, 55.3, 'h', 'Hello']\n",
        "for i in range(1, 10):\n",
        "  print(i, end=\"  \")\n",
        "\n",
        "print(\"\\n__Next__\")\n",
        "\n",
        "for i in range (1, 10, 2):\n",
        "  print(i, end=\"  \")\n",
        "\n",
        "print(\"\\n__Next__\")\n",
        "\n",
        "for i in LIST:\n",
        "  print(i, end=\"  \")\n",
        "\n",
        "print(\"\\n__Next__\")\n",
        "\n",
        "# for i in TUP:\n",
        "#   print(i, end=\"  \")"
      ]
    },
    {
      "cell_type": "code",
      "execution_count": null,
      "metadata": {
        "colab": {
          "base_uri": "https://localhost:8080/"
        },
        "id": "nWFf-8Y9Dhh5",
        "outputId": "440fbfbd-80bd-4b60-c298-37eace4832a4"
      },
      "outputs": [
        {
          "name": "stdout",
          "output_type": "stream",
          "text": [
            "1  2  3  4  5  6  7  8  9  10  \n",
            "__Next__\n",
            "2  4  6  8  10  12  14  16  18  20  -11  -12  -13  -14  -15  -16  -17  -18  -19  -20  "
          ]
        }
      ],
      "source": [
        "# while - Loop\n",
        "\n",
        "i=1\n",
        "while (i<=10):\n",
        "  print(i, end=\"  \")\n",
        "  i+=1\n",
        "\n",
        "print(\"\\n__Next__\")\n",
        "\n",
        "j=1\n",
        "while(True):\n",
        "  if(j<=10):\n",
        "    print(j*2, end=\"  \")\n",
        "  elif(j>10 and j<=20):\n",
        "    print(j*-1, end=\"  \")\n",
        "  else:\n",
        "    break\n",
        "  j+=1"
      ]
    },
    {
      "cell_type": "markdown",
      "metadata": {
        "id": "WeGC2yaxhwVW"
      },
      "source": [
        "# **File Management** \n"
      ]
    },
    {
      "cell_type": "code",
      "execution_count": 8,
      "metadata": {
        "colab": {
          "base_uri": "https://localhost:8080/"
        },
        "id": "clPAI40HhvOm",
        "outputId": "e60f49df-5b58-4973-dd13-85bb4cd22554"
      },
      "outputs": [
        {
          "ename": "FileNotFoundError",
          "evalue": "[Errno 2] No such file or directory: 'New.txt'",
          "output_type": "error",
          "traceback": [
            "\u001b[1;31m---------------------------------------------------------------------------\u001b[0m",
            "\u001b[1;31mFileNotFoundError\u001b[0m                         Traceback (most recent call last)",
            "Cell \u001b[1;32mIn [8], line 2\u001b[0m\n\u001b[0;32m      1\u001b[0m \u001b[39m# a file named \"New\", will be opened with the reading mode.\u001b[39;00m\n\u001b[1;32m----> 2\u001b[0m file \u001b[39m=\u001b[39m \u001b[39mopen\u001b[39;49m(\u001b[39m'\u001b[39;49m\u001b[39mNew.txt\u001b[39;49m\u001b[39m'\u001b[39;49m, \u001b[39m'\u001b[39;49m\u001b[39mr\u001b[39;49m\u001b[39m'\u001b[39;49m)\n\u001b[0;32m      3\u001b[0m \u001b[39m# This will print every line one by one in the file\u001b[39;00m\n\u001b[0;32m      4\u001b[0m \u001b[39mfor\u001b[39;00m each \u001b[39min\u001b[39;00m file:\n",
            "\u001b[1;31mFileNotFoundError\u001b[0m: [Errno 2] No such file or directory: 'New.txt'"
          ]
        }
      ],
      "source": [
        "# a file named \"New\", will be opened with the reading mode.\n",
        "file = open('New.txt', 'r')\n",
        "# This will print every line one by one in the file\n",
        "for each in file:\n",
        "    print (each)\n",
        "\n",
        "print(\"\\n__Next__\")\n",
        "\n"
      ]
    },
    {
      "cell_type": "code",
      "execution_count": null,
      "metadata": {
        "colab": {
          "base_uri": "https://localhost:8080/"
        },
        "id": "DpmPoPJVjxxf",
        "outputId": "8953ed1c-755f-44f0-dbac-e8ca22459383"
      },
      "outputs": [
        {
          "name": "stdout",
          "output_type": "stream",
          "text": [
            "abcd\n",
            "efgh\n",
            "ijkh\n",
            "jklm\n",
            "nop\n",
            "qrs\n",
            "tuv\n",
            "\n",
            "__Next__\n"
          ]
        }
      ],
      "source": [
        "# Python code to illustrate read() mode\n",
        "file = open(\"New.txt\", \"r\")\n",
        "print (file.read())\n",
        "\n",
        "print(\"\\n__Next__\")"
      ]
    },
    {
      "cell_type": "code",
      "execution_count": null,
      "metadata": {
        "colab": {
          "base_uri": "https://localhost:8080/"
        },
        "id": "E1hPTbSqj2q8",
        "outputId": "423d5cf6-c60f-4fae-dafc-123ed726e5ae"
      },
      "outputs": [
        {
          "name": "stdout",
          "output_type": "stream",
          "text": [
            "\n",
            "__Next__\n"
          ]
        }
      ],
      "source": [
        "# Python code to create a file\n",
        "file = open('New2.txt','w')\n",
        "file.write(\"This is the write command\")\n",
        "file.write(\"It allows us to write in a particular file\")\n",
        "file.close()\n",
        "\n",
        "print(\"\\n__Next__\")"
      ]
    },
    {
      "cell_type": "code",
      "execution_count": null,
      "metadata": {
        "colab": {
          "base_uri": "https://localhost:8080/"
        },
        "id": "AXo-CC0ij6sw",
        "outputId": "c3cc1e3a-d39c-485c-9b7b-42ed8d3db72d"
      },
      "outputs": [
        {
          "name": "stdout",
          "output_type": "stream",
          "text": [
            "['abcd']\n",
            "['efgh']\n",
            "['ijkh']\n",
            "['jklm']\n",
            "['nop']\n",
            "['qrs']\n",
            "['tuv']\n"
          ]
        }
      ],
      "source": [
        "# Python code to illustrate split() function\n",
        "with open(\"New.txt\", \"r\") as file:\n",
        "    data = file.readlines()\n",
        "    for line in data:\n",
        "        word = line.split()\n",
        "        print (word)"
      ]
    },
    {
      "cell_type": "code",
      "execution_count": null,
      "metadata": {
        "colab": {
          "base_uri": "https://localhost:8080/"
        },
        "id": "NWFli1BkeWx8",
        "outputId": "ef64b0b6-81d3-4f93-cdcd-b156f3189165"
      },
      "outputs": [
        {
          "name": "stdout",
          "output_type": "stream",
          "text": [
            "Data_1\n",
            "Data_2\n",
            "Data_3\n",
            "Data_4\n"
          ]
        }
      ],
      "source": [
        "# for binary file formats (mostly required for saving and loading trained model file)\n",
        "\n",
        "import pickle\n",
        "\n",
        "model = [\"Data_1\", \"Data_2\", \"Data_3\", \"Data_4\"]\n",
        "\n",
        "filename = 'File_Binary.train'\n",
        "\n",
        "pickle.dump(model, open(filename,'wb')) #saving the file in binary file format\n",
        "loadMODEL = pickle.load(open('File_Binary.train','rb')) #loading the binary file\n",
        "\n",
        "for i in loadMODEL: #after loading the file printing its contents\n",
        "  print(i)"
      ]
    },
    {
      "cell_type": "code",
      "execution_count": 1,
      "metadata": {},
      "outputs": [],
      "source": [
        "class Point:\n",
        "    x=0\n",
        "    y=0\n",
        "    def __init__(self,x,y):\n",
        "        self.x=x\n",
        "        self.y=y\n",
        "    def __str__(self):\n",
        "        return(\"(\"+str(self.x)+\",\"+str(self.y)+\")\")"
      ]
    },
    {
      "cell_type": "code",
      "execution_count": 4,
      "metadata": {},
      "outputs": [
        {
          "data": {
            "text/plain": [
              "array([10, 15, 20, 25, 30, 35, 40, 45, 50, 55, 60, 65, 70, 75, 80, 85, 90,\n",
              "       95])"
            ]
          },
          "execution_count": 4,
          "metadata": {},
          "output_type": "execute_result"
        }
      ],
      "source": [
        "import numpy as np\n",
        "\n",
        "np.array([1,2,3])\n",
        "np.arange(10,100,5)"
      ]
    },
    {
      "cell_type": "code",
      "execution_count": 5,
      "metadata": {},
      "outputs": [
        {
          "data": {
            "text/plain": [
              "array([0., 0., 0., 0., 0., 0., 0., 0., 0., 0.])"
            ]
          },
          "execution_count": 5,
          "metadata": {},
          "output_type": "execute_result"
        }
      ],
      "source": [
        "np.zeros(10)"
      ]
    },
    {
      "cell_type": "code",
      "execution_count": 10,
      "metadata": {},
      "outputs": [
        {
          "data": {
            "text/plain": [
              "array([[[0., 0., 0., 0.],\n",
              "        [0., 0., 0., 0.],\n",
              "        [0., 0., 0., 0.]],\n",
              "\n",
              "       [[0., 0., 0., 0.],\n",
              "        [0., 0., 0., 0.],\n",
              "        [0., 0., 0., 0.]]])"
            ]
          },
          "execution_count": 10,
          "metadata": {},
          "output_type": "execute_result"
        }
      ],
      "source": [
        "np.zeros((2,3,4))"
      ]
    },
    {
      "cell_type": "code",
      "execution_count": 11,
      "metadata": {},
      "outputs": [
        {
          "data": {
            "text/plain": [
              "array([1., 1., 1., 1., 1., 1., 1., 1., 1., 1., 1., 1., 1., 1., 1.])"
            ]
          },
          "execution_count": 11,
          "metadata": {},
          "output_type": "execute_result"
        }
      ],
      "source": [
        "np.ones(15)"
      ]
    },
    {
      "cell_type": "code",
      "execution_count": 16,
      "metadata": {},
      "outputs": [
        {
          "data": {
            "text/plain": [
              "array([200, 197, 194, 191, 188, 185, 182, 179, 176, 173, 170, 167, 164,\n",
              "       161, 158, 155, 152, 149, 146, 143, 140, 137, 134, 131, 128, 125,\n",
              "       122, 119, 116, 113, 110, 107, 104, 101,  98,  95,  92,  89,  86,\n",
              "        83,  80,  77,  74,  71,  68,  65,  62,  59,  56,  53,  50,  47,\n",
              "        44,  41,  38,  35,  32,  29,  26,  23,  20,  17])"
            ]
          },
          "execution_count": 16,
          "metadata": {},
          "output_type": "execute_result"
        }
      ],
      "source": [
        "np.arange(200,16,-3)"
      ]
    },
    {
      "cell_type": "code",
      "execution_count": 18,
      "metadata": {},
      "outputs": [
        {
          "data": {
            "text/plain": [
              "array([10.        , 10.20408163, 10.40816327, 10.6122449 , 10.81632653,\n",
              "       11.02040816, 11.2244898 , 11.42857143, 11.63265306, 11.83673469,\n",
              "       12.04081633, 12.24489796, 12.44897959, 12.65306122, 12.85714286,\n",
              "       13.06122449, 13.26530612, 13.46938776, 13.67346939, 13.87755102,\n",
              "       14.08163265, 14.28571429, 14.48979592, 14.69387755, 14.89795918,\n",
              "       15.10204082, 15.30612245, 15.51020408, 15.71428571, 15.91836735,\n",
              "       16.12244898, 16.32653061, 16.53061224, 16.73469388, 16.93877551,\n",
              "       17.14285714, 17.34693878, 17.55102041, 17.75510204, 17.95918367,\n",
              "       18.16326531, 18.36734694, 18.57142857, 18.7755102 , 18.97959184,\n",
              "       19.18367347, 19.3877551 , 19.59183673, 19.79591837, 20.        ])"
            ]
          },
          "execution_count": 18,
          "metadata": {},
          "output_type": "execute_result"
        }
      ],
      "source": [
        "np.linspace(10,20)"
      ]
    },
    {
      "cell_type": "code",
      "execution_count": 27,
      "metadata": {},
      "outputs": [
        {
          "data": {
            "text/plain": [
              "array([0.        , 0.05263158, 0.10526316, 0.15789474, 0.21052632,\n",
              "       0.26315789, 0.31578947, 0.36842105, 0.42105263, 0.47368421,\n",
              "       0.52631579, 0.57894737, 0.63157895, 0.68421053, 0.73684211,\n",
              "       0.78947368, 0.84210526, 0.89473684, 0.94736842, 1.        ])"
            ]
          },
          "execution_count": 27,
          "metadata": {},
          "output_type": "execute_result"
        }
      ],
      "source": [
        "np.linspace(10,20,10)\n",
        "np.linspace(0,1,20)"
      ]
    },
    {
      "cell_type": "code",
      "execution_count": 23,
      "metadata": {},
      "outputs": [
        {
          "data": {
            "text/plain": [
              "array([[1, 0, 0, 0, 0],\n",
              "       [0, 1, 0, 0, 0],\n",
              "       [0, 0, 1, 0, 0],\n",
              "       [0, 0, 0, 1, 0],\n",
              "       [0, 0, 0, 0, 1]])"
            ]
          },
          "execution_count": 23,
          "metadata": {},
          "output_type": "execute_result"
        }
      ],
      "source": [
        "np.eye(5,dtype=int)"
      ]
    },
    {
      "cell_type": "code",
      "execution_count": 30,
      "metadata": {},
      "outputs": [
        {
          "data": {
            "text/plain": [
              "array([[0.4473332 , 0.76042342],\n",
              "       [0.98842009, 0.20040615],\n",
              "       [0.99857693, 0.26660594],\n",
              "       [0.10348538, 0.24027047],\n",
              "       [0.37147943, 0.04516689]])"
            ]
          },
          "execution_count": 30,
          "metadata": {},
          "output_type": "execute_result"
        }
      ],
      "source": [
        "np.random.rand(5,2)"
      ]
    },
    {
      "cell_type": "code",
      "execution_count": 36,
      "metadata": {},
      "outputs": [
        {
          "data": {
            "text/plain": [
              "array([[0, 1, 0, 4, 2],\n",
              "       [8, 5, 8, 9, 9],\n",
              "       [4, 5, 1, 3, 9],\n",
              "       [0, 7, 2, 8, 9],\n",
              "       [5, 4, 3, 7, 1]])"
            ]
          },
          "execution_count": 36,
          "metadata": {},
          "output_type": "execute_result"
        }
      ],
      "source": [
        "np.random.randint(0,10,[5,5])"
      ]
    },
    {
      "cell_type": "code",
      "execution_count": 37,
      "metadata": {},
      "outputs": [
        {
          "data": {
            "text/plain": [
              "array([[17, 16,  7, 87, 22],\n",
              "       [82, 88, 66, 86, 86],\n",
              "       [ 6, 86, 16, 82, 72],\n",
              "       [16, 40, 79, 54, 29],\n",
              "       [34, 87, 53, 68, 90]])"
            ]
          },
          "execution_count": 37,
          "metadata": {},
          "output_type": "execute_result"
        }
      ],
      "source": [
        "np.random.randint(0,100,[5,5])"
      ]
    },
    {
      "cell_type": "code",
      "execution_count": 41,
      "metadata": {},
      "outputs": [
        {
          "data": {
            "text/plain": [
              "array([[-1.12419151,  0.79250214,  1.4882538 , -0.29277954,  0.88078613],\n",
              "       [-1.29036297, -2.23277406, -0.2162475 , -0.05055988, -0.25365748]])"
            ]
          },
          "execution_count": 41,
          "metadata": {},
          "output_type": "execute_result"
        }
      ],
      "source": [
        "np.random.randn(2,5)"
      ]
    },
    {
      "cell_type": "code",
      "execution_count": 43,
      "metadata": {},
      "outputs": [
        {
          "data": {
            "text/plain": [
              "array([ 1.3039401 ,  0.4359436 , -0.07607384, -0.95516253, -1.68841398,\n",
              "        0.7222718 , -0.47488416,  0.23871052, -0.20631504,  0.69095058])"
            ]
          },
          "execution_count": 43,
          "metadata": {},
          "output_type": "execute_result"
        }
      ],
      "source": [
        "arr = np.random.randn(10)\n",
        "arr"
      ]
    },
    {
      "cell_type": "code",
      "execution_count": 44,
      "metadata": {},
      "outputs": [
        {
          "data": {
            "text/plain": [
              "(10,)"
            ]
          },
          "execution_count": 44,
          "metadata": {},
          "output_type": "execute_result"
        }
      ],
      "source": [
        "arr.shape"
      ]
    },
    {
      "cell_type": "code",
      "execution_count": 48,
      "metadata": {},
      "outputs": [
        {
          "data": {
            "text/plain": [
              "array([[ 1.3039401 ,  0.4359436 , -0.07607384, -0.95516253, -1.68841398],\n",
              "       [ 0.7222718 , -0.47488416,  0.23871052, -0.20631504,  0.69095058]])"
            ]
          },
          "execution_count": 48,
          "metadata": {},
          "output_type": "execute_result"
        }
      ],
      "source": [
        "arr2 = arr.reshape(2,5)\n",
        "arr2"
      ]
    },
    {
      "cell_type": "code",
      "execution_count": 50,
      "metadata": {},
      "outputs": [
        {
          "data": {
            "text/plain": [
              "(10,)"
            ]
          },
          "execution_count": 50,
          "metadata": {},
          "output_type": "execute_result"
        }
      ],
      "source": [
        "arr.shape"
      ]
    },
    {
      "cell_type": "code",
      "execution_count": 53,
      "metadata": {},
      "outputs": [
        {
          "data": {
            "text/plain": [
              "0"
            ]
          },
          "execution_count": 53,
          "metadata": {},
          "output_type": "execute_result"
        }
      ],
      "source": [
        "arr2.argmax()"
      ]
    },
    {
      "cell_type": "code",
      "execution_count": 47,
      "metadata": {},
      "outputs": [
        {
          "data": {
            "text/plain": [
              "(2, 5)"
            ]
          },
          "execution_count": 47,
          "metadata": {},
          "output_type": "execute_result"
        }
      ],
      "source": [
        "arr2.shape"
      ]
    },
    {
      "cell_type": "code",
      "execution_count": 54,
      "metadata": {},
      "outputs": [
        {
          "data": {
            "text/plain": [
              "array([[1, 3, 0, 2, 1],\n",
              "       [7, 8, 1, 1, 6],\n",
              "       [3, 7, 0, 4, 5],\n",
              "       [7, 9, 5, 3, 7],\n",
              "       [7, 7, 5, 1, 4]])"
            ]
          },
          "execution_count": 54,
          "metadata": {},
          "output_type": "execute_result"
        }
      ],
      "source": [
        "arr = np.random.randint(0,10,(5,5))\n",
        "arr"
      ]
    },
    {
      "cell_type": "code",
      "execution_count": 55,
      "metadata": {},
      "outputs": [
        {
          "data": {
            "text/plain": [
              "0"
            ]
          },
          "execution_count": 55,
          "metadata": {},
          "output_type": "execute_result"
        }
      ],
      "source": [
        "arr[2,2]"
      ]
    },
    {
      "cell_type": "code",
      "execution_count": 56,
      "metadata": {},
      "outputs": [
        {
          "data": {
            "text/plain": [
              "array([[7, 8, 1, 1],\n",
              "       [3, 7, 0, 4]])"
            ]
          },
          "execution_count": 56,
          "metadata": {},
          "output_type": "execute_result"
        }
      ],
      "source": [
        "arr[1:3,0:4]"
      ]
    },
    {
      "cell_type": "code",
      "execution_count": 59,
      "metadata": {},
      "outputs": [
        {
          "data": {
            "text/plain": [
              "array([4, 8, 4, 1, 8, 7, 1, 5, 0, 0])"
            ]
          },
          "execution_count": 59,
          "metadata": {},
          "output_type": "execute_result"
        }
      ],
      "source": [
        "arr2 = np.random.randint(0,10,10)\n",
        "arr2"
      ]
    },
    {
      "cell_type": "code",
      "execution_count": 60,
      "metadata": {},
      "outputs": [
        {
          "data": {
            "text/plain": [
              "array([8, 4, 1])"
            ]
          },
          "execution_count": 60,
          "metadata": {},
          "output_type": "execute_result"
        }
      ],
      "source": [
        "arr2[1:4]"
      ]
    },
    {
      "cell_type": "code",
      "execution_count": 61,
      "metadata": {},
      "outputs": [
        {
          "data": {
            "text/plain": [
              "array([0, 3, 1, 6, 0, 6, 0, 2, 1, 2])"
            ]
          },
          "execution_count": 61,
          "metadata": {},
          "output_type": "execute_result"
        }
      ],
      "source": [
        "arr1 = np.random.randint(0,10,10)\n",
        "arr1"
      ]
    },
    {
      "cell_type": "code",
      "execution_count": 62,
      "metadata": {},
      "outputs": [
        {
          "data": {
            "text/plain": [
              "array([10, 13, 11, 16, 10, 16, 10, 12, 11, 12])"
            ]
          },
          "execution_count": 62,
          "metadata": {},
          "output_type": "execute_result"
        }
      ],
      "source": [
        "arr1+10"
      ]
    },
    {
      "cell_type": "code",
      "execution_count": 63,
      "metadata": {},
      "outputs": [
        {
          "data": {
            "text/plain": [
              "array([ 0,  6,  2, 12,  0, 12,  0,  4,  2,  4])"
            ]
          },
          "execution_count": 63,
          "metadata": {},
          "output_type": "execute_result"
        }
      ],
      "source": [
        "arr1*2"
      ]
    },
    {
      "cell_type": "code",
      "execution_count": 64,
      "metadata": {},
      "outputs": [
        {
          "data": {
            "text/plain": [
              "array([0.        , 1.73205081, 1.        , 2.44948974, 0.        ,\n",
              "       2.44948974, 0.        , 1.41421356, 1.        , 1.41421356])"
            ]
          },
          "execution_count": 64,
          "metadata": {},
          "output_type": "execute_result"
        }
      ],
      "source": [
        "np.sqrt(arr1)"
      ]
    },
    {
      "cell_type": "code",
      "execution_count": 65,
      "metadata": {},
      "outputs": [
        {
          "data": {
            "text/plain": [
              "array([ 0.        ,  0.14112001,  0.84147098, -0.2794155 ,  0.        ,\n",
              "       -0.2794155 ,  0.        ,  0.90929743,  0.84147098,  0.90929743])"
            ]
          },
          "execution_count": 65,
          "metadata": {},
          "output_type": "execute_result"
        }
      ],
      "source": [
        "np.sin(arr1)"
      ]
    },
    {
      "cell_type": "code",
      "execution_count": 66,
      "metadata": {},
      "outputs": [
        {
          "name": "stdout",
          "output_type": "stream",
          "text": [
            "(8, 7)\n"
          ]
        }
      ],
      "source": [
        "def add(a,b):\n",
        "    return a+5,b+5\n",
        "result = add(3,2)\n",
        "print(result)\n",
        "#test"
      ]
    }
  ],
  "metadata": {
    "colab": {
      "collapsed_sections": [],
      "provenance": []
    },
    "kernelspec": {
      "display_name": "Python 3.10.2 64-bit",
      "language": "python",
      "name": "python3"
    },
    "language_info": {
      "codemirror_mode": {
        "name": "ipython",
        "version": 3
      },
      "file_extension": ".py",
      "mimetype": "text/x-python",
      "name": "python",
      "nbconvert_exporter": "python",
      "pygments_lexer": "ipython3",
      "version": "3.10.2"
    },
    "vscode": {
      "interpreter": {
        "hash": "26de051ba29f2982a8de78e945f0abaf191376122a1563185a90213a26c5da77"
      }
    }
  },
  "nbformat": 4,
  "nbformat_minor": 0
}
